{
  "nbformat": 4,
  "nbformat_minor": 0,
  "metadata": {
    "colab": {
      "provenance": [],
      "collapsed_sections": []
    },
    "kernelspec": {
      "name": "python3",
      "display_name": "Python 3"
    },
    "language_info": {
      "name": "python"
    }
  },
  "cells": [
    {
      "cell_type": "code",
      "execution_count": null,
      "metadata": {
        "id": "VNz97VCGry0X"
      },
      "outputs": [],
      "source": [
        "from shapely.geometry import Polygon\n",
        "\n",
        "def calculate_iou(box1, box2): \n",
        "  ''' box1: bounding box of region\n",
        "      box2: ground truth bounding box\n",
        "      \n",
        "      output: intersection over union of two bounding boxes'''\n",
        "\n",
        "  # points to get rectangle with regional bounding box\n",
        "  p1 = (box1[0], box1[1]) \n",
        "  p2 = (box1[0], (box1[1] + box1[3]))\n",
        "  p3 = ((box1[0] + box1[2]), (box1[1]+ box1[3]))\n",
        "  p4 = ((box1[0] + box1[2]), box1[1])\n",
        "\n",
        "  # points to get rectangle with ground truth bounding box\n",
        "  p5 = (box2[0], box2[1])\n",
        "  p6 = (box2[0], (box2[1] + box2[3]))\n",
        "  p7 = ((box2[0] + box2[2]), (box2[1]+ box2[3]))\n",
        "  p8 = ((box2[0] + box2[2]), box2[1])\n",
        "\n",
        "  # create rectangles with the above points \n",
        "  rect1 = Polygon([p1, p2, p3, p4])\n",
        "  rect2 = Polygon([p5, p6, p7, p8])\n",
        "\n",
        "  intersection_area = rect1.intersection(rect2).area\n",
        "  union_area = rect1.union(rect2).area\n",
        "  iou = intersection_area/union_area\n",
        "  return iou\n",
        "\n"
      ]
    }
  ]
}